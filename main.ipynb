{
 "cells": [
  {
   "cell_type": "code",
   "execution_count": null,
   "id": "catholic-conservative",
   "metadata": {},
   "outputs": [],
   "source": [
    "import numpy as np\n",
    "import pandas as pd\n",
    "import matplotlib.patheffects as PathEffects\n",
    "import matplotlib.pyplot as plt\n",
    "%matplotlib inline\n",
    "import seaborn as sns\n",
    "from sklearn.decomposition import PCA\n",
    "from sklearn.manifold import TSNE\n",
    "\n",
    "import os\n",
    "import requests\n",
    "import time\n",
    "\n",
    "import mnist_reader"
   ]
  },
  {
   "cell_type": "code",
   "execution_count": null,
   "id": "preceding-template",
   "metadata": {},
   "outputs": [],
   "source": [
    "# Download fashion mnist dataset\n",
    "urls = [\n",
    "    'http://fashion-mnist.s3-website.eu-central-1.amazonaws.com/train-labels-idx1-ubyte.gz',\n",
    "    'http://fashion-mnist.s3-website.eu-central-1.amazonaws.com/train-images-idx3-ubyte.gz',\n",
    "    'http://fashion-mnist.s3-website.eu-central-1.amazonaws.com/t10k-labels-idx1-ubyte.gz',\n",
    "    'http://fashion-mnist.s3-website.eu-central-1.amazonaws.com/t10k-images-idx3-ubyte.gz',\n",
    "]\n",
    "dataset_directory = './data/fashion'\n",
    "\n",
    "os.makedirs(dataset_directory, exist_ok=True)\n",
    "\n",
    "for i, url in enumerate(urls):\n",
    "    filename = os.path.join(dataset_directory, os.path.basename(url))\n",
    "    r = requests.get(url)\n",
    "    with open(filename, 'wb') as f:\n",
    "        f.write(r.content)\n",
    "        print(f'Downloaded file [{i + 1}/{len(urls)}]: {filename}')  "
   ]
  },
  {
   "cell_type": "code",
   "execution_count": null,
   "id": "functioning-planner",
   "metadata": {},
   "outputs": [],
   "source": [
    "# Load datasets\n",
    "X_train, y_train = mnist_reader.load_mnist('data/fashion', kind='train')\n",
    "X_test, y_test = mnist_reader.load_mnist('data/fashion', kind='t10k')\n",
    "\n",
    "print(f'shape of training data: {X_train.shape}')\n",
    "print(f'label values: {y_train}')"
   ]
  },
  {
   "cell_type": "code",
   "execution_count": null,
   "id": "stupid-median",
   "metadata": {},
   "outputs": [],
   "source": [
    "# Apply seaborn settings\n",
    "sns.set_style('darkgrid')\n",
    "sns.set_palette('muted')\n",
    "sns.set_context(\"notebook\", font_scale=1.5,\n",
    "                rc={\"lines.linewidth\": 2.5})\n",
    "\n",
    "# Pick random state for reproducible t-SNE results\n",
    "RS = 123"
   ]
  },
  {
   "cell_type": "code",
   "execution_count": null,
   "id": "italic-breeding",
   "metadata": {},
   "outputs": [],
   "source": [
    "def fashion_scatter(x, colors):\n",
    "    # choose a color palette with seaborn\n",
    "    num_classes = len(np.unique(colors))\n",
    "    palette = np.array(sns.color_palette(\"hls\", num_classes))\n",
    "\n",
    "    # create a scatter plot\n",
    "    f = plt.figure(figsize=(8, 8))\n",
    "    ax = plt.subplot(aspect='equal')\n",
    "    sc = ax.scatter(x[:,0], x[:,1], lw=0, s=40, c=palette[colors.astype(int)])\n",
    "    plt.xlim(-25, 25)\n",
    "    plt.ylim(-25, 25)\n",
    "    ax.axis('off')\n",
    "    ax.axis('tight')\n",
    "\n",
    "    # add the labels for each digit corresponding to the label\n",
    "    txts = []\n",
    "\n",
    "    for i in range(num_classes):\n",
    "\n",
    "        # Position of each label at median of data points\n",
    "\n",
    "        xtext, ytext = np.median(x[colors == i, :], axis=0)\n",
    "        txt = ax.text(xtext, ytext, str(i), fontsize=24)\n",
    "        txt.set_path_effects([\n",
    "            PathEffects.Stroke(linewidth=5, foreground=\"w\"),\n",
    "            PathEffects.Normal()])\n",
    "        txts.append(txt)\n",
    "\n",
    "    return f, ax, sc, txts"
   ]
  },
  {
   "cell_type": "code",
   "execution_count": null,
   "id": "australian-suspension",
   "metadata": {},
   "outputs": [],
   "source": [
    "# Subset first 20k data points to visualize\n",
    "x_subset = X_train[0:20000]\n",
    "y_subset = y_train[0:20000]\n",
    "\n",
    "print(np.unique(y_subset))"
   ]
  },
  {
   "cell_type": "code",
   "execution_count": null,
   "id": "painted-leather",
   "metadata": {},
   "outputs": [],
   "source": [
    "# Run PCA\n",
    "time_start = time.time()\n",
    "\n",
    "pca = PCA(n_components=4)\n",
    "pca_result = pca.fit_transform(x_subset)\n",
    "\n",
    "print('PCA done! Time elapsed: {} seconds'.format(time.time()-time_start))"
   ]
  },
  {
   "cell_type": "code",
   "execution_count": null,
   "id": "technological-handling",
   "metadata": {},
   "outputs": [],
   "source": [
    "# Place PCA results into a dataframe\n",
    "pca_df = pd.DataFrame(columns = ['pca1','pca2','pca3','pca4'])\n",
    "\n",
    "pca_df['pca1'] = pca_result[:,0]\n",
    "pca_df['pca2'] = pca_result[:,1]\n",
    "pca_df['pca3'] = pca_result[:,2]\n",
    "pca_df['pca4'] = pca_result[:,3]\n",
    "\n",
    "print('Variance explained per principal component: {}'.format(pca.explained_variance_ratio_))"
   ]
  },
  {
   "cell_type": "code",
   "execution_count": null,
   "id": "sustained-sherman",
   "metadata": {},
   "outputs": [],
   "source": [
    "# Pick first two principal components\n",
    "top_two_comp = pca_df[['pca1','pca2']]\n",
    "\n",
    "# Visualize PCA results\n",
    "fashion_scatter(top_two_comp.values,y_subset)"
   ]
  },
  {
   "cell_type": "code",
   "execution_count": null,
   "id": "super-punch",
   "metadata": {},
   "outputs": [],
   "source": [
    "# Run t-SNE (takes 1.5 minutes)\n",
    "time_start = time.time()\n",
    "\n",
    "fashion_tsne = TSNE(random_state=RS, n_components=2).fit_transform(x_subset)\n",
    "\n",
    "print('t-SNE done! Time elapsed: {} seconds'.format(time.time()-time_start))"
   ]
  },
  {
   "cell_type": "code",
   "execution_count": null,
   "id": "suited-margin",
   "metadata": {},
   "outputs": [],
   "source": [
    "# Visualize t-SNE results\n",
    "fashion_scatter(fashion_tsne, y_subset)"
   ]
  },
  {
   "cell_type": "code",
   "execution_count": null,
   "id": "satisfactory-senegal",
   "metadata": {},
   "outputs": [],
   "source": [
    "# Run PCA as a precusor step to a faster, more approximate t-SNE\n",
    "time_start = time.time()\n",
    "\n",
    "pca_50 = PCA(n_components=50)\n",
    "pca_result_50 = pca_50.fit_transform(x_subset)\n",
    "\n",
    "print('PCA with 50 components done! Time elapsed: {} seconds'.format(time.time()-time_start))\n",
    "\n",
    "print('Cumulative variance explained by 50 principal components: {}'.format(np.sum(pca_50.explained_variance_ratio_)))"
   ]
  },
  {
   "cell_type": "code",
   "execution_count": null,
   "id": "antique-array",
   "metadata": {},
   "outputs": [],
   "source": [
    "# Run t-SNE on PCA results (takes 1.25 minutes)\n",
    "time_start = time.time()\n",
    "\n",
    "fashion_pca_tsne = TSNE(random_state=RS).fit_transform(pca_result_50)\n",
    "\n",
    "print('t-SNE done! Time elapsed: {} seconds'.format(time.time()-time_start))"
   ]
  },
  {
   "cell_type": "code",
   "execution_count": null,
   "id": "golden-kingdom",
   "metadata": {},
   "outputs": [],
   "source": [
    "# Visualize PCA/t-SNE results\n",
    "fashion_scatter(fashion_pca_tsne, y_subset)"
   ]
  }
 ],
 "metadata": {
  "kernelspec": {
   "display_name": "Python 3",
   "language": "python",
   "name": "python3"
  },
  "language_info": {
   "codemirror_mode": {
    "name": "ipython",
    "version": 3
   },
   "file_extension": ".py",
   "mimetype": "text/x-python",
   "name": "python",
   "nbconvert_exporter": "python",
   "pygments_lexer": "ipython3",
   "version": "3.9.1"
  }
 },
 "nbformat": 4,
 "nbformat_minor": 5
}
